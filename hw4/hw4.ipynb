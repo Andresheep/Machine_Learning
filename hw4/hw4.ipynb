{
 "cells": [
  {
   "cell_type": "markdown",
   "metadata": {},
   "source": [
    "# Homework 4"
   ]
  },
  {
   "cell_type": "markdown",
   "metadata": {},
   "source": [
    "## 1 Setting up the data"
   ]
  },
  {
   "cell_type": "markdown",
   "metadata": {},
   "source": [
    "### 1."
   ]
  },
  {
   "cell_type": "code",
   "execution_count": 2,
   "metadata": {},
   "outputs": [
    {
     "name": "stdout",
     "output_type": "stream",
     "text": [
      "FeatureMin :  [ 1.9350e+02  1.5250e+02  2.1425e+02  1.5250e+02  1.0000e+01  0.0000e+00\n",
      "  0.0000e+00  0.0000e+00  8.7589e-01  0.0000e+00  0.0000e+00  0.0000e+00\n",
      "  9.9049e-01 -9.9990e+02] \n",
      " \n",
      "FeatureMax :  [2.5300e+02 2.4900e+02 2.5250e+02 2.5250e+02 3.1048e+04 1.3630e+04\n",
      " 9.2380e+03 1.2517e+02 1.9167e+01 1.3230e+01 6.6761e+01 7.3902e+01\n",
      " 9.7504e+02 7.9720e+02] \n",
      " \n",
      "FeatureMean :  [2.41601104e+02 2.27376571e+02 2.41554150e+02 2.32826768e+02\n",
      " 3.08992337e+03 9.28259020e+02 1.38093830e+02 3.24857933e+00\n",
      " 6.49865290e+00 2.09713912e+00 4.21766041e+00 2.69171845e+00\n",
      " 1.02715905e+01 5.78148050e+00] \n",
      " \n",
      "FeatureVariance :  [8.34991711e+01 9.26255931e+01 3.52863398e+01 9.76257317e+01\n",
      " 1.56515138e+07 3.08176182e+06 4.43951746e+05 8.21948502e+00\n",
      " 6.40504819e+00 4.36344047e+00 4.08637188e+00 2.19877847e+00\n",
      " 4.04646245e+02 3.40652055e+03]\n"
     ]
    }
   ],
   "source": [
    "import numpy as np\n",
    "import mltools as ml\n",
    "import matplotlib.pyplot as plt\n",
    "np.random.seed(7)\n",
    "# Data Loading\n",
    "X = np.genfromtxt('HW4-data/X_train.txt', delimiter=None)\n",
    "Y = np.genfromtxt('HW4-data/Y_train.txt', delimiter=None) \n",
    "X,Y = ml.shuffleData(X,Y)\n",
    "print('FeatureMin : ',np.min(X,axis=0),'\\n ')\n",
    "print('FeatureMax : ',np.max(X,axis=0),'\\n ')\n",
    "print('FeatureMean : ',np.mean(X,axis=0),'\\n ')\n",
    "print('FeatureVariance : ',np.var(X,axis=0))"
   ]
  },
  {
   "cell_type": "markdown",
   "metadata": {},
   "source": [
    "### 2."
   ]
  },
  {
   "cell_type": "code",
   "execution_count": 3,
   "metadata": {},
   "outputs": [
    {
     "name": "stdout",
     "output_type": "stream",
     "text": [
      "FeatureMinTraining :  [ -4.68939172  -3.71311852  -4.39180524  -2.71061767  -0.79109951\n",
      "  -0.53349959  -0.2121811   -1.15267265  -2.12075524  -1.01655615\n",
      "  -2.11680472  -1.96363455  -0.43067124 -13.70626954] \n",
      " \n",
      "FeatureMaxTraining :  [ 1.25093768  1.94678868  1.80450477  1.98929687  7.10353042  7.04814507\n",
      " 13.00389416  8.45222982  4.53465261  4.37078902  6.33527392  6.05633526\n",
      " 45.72191089  6.13157387] \n",
      " \n",
      "FeatureMeanTraining :  [ 5.02833331e-15 -3.07327497e-15  1.17481402e-13 -6.84071466e-14\n",
      " -6.36379838e-17  1.69686487e-16  3.22764038e-16  2.94966274e-15\n",
      " -3.71125353e-15  7.69073694e-16 -1.31394895e-15  1.81715754e-15\n",
      " -1.29387612e-15 -1.00475184e-16] \n",
      " \n",
      "FeatureVarianceTraining:  [1. 1. 1. 1. 1. 1. 1. 1. 1. 1. 1. 1. 1. 1.]\n"
     ]
    }
   ],
   "source": [
    "Xtr, Xva, Ytr, Yva = ml.splitData(X, Y)\n",
    "Xt, Yt = Xtr[:5000], Ytr[:5000] # subsample for efficiency (you can go higher) \n",
    "XtS, params = ml.rescale(Xt) # Normalize the features\n",
    "XvS, _ = ml.rescale(Xva, params) # Normalize the features\n",
    "print('FeatureMinTraining : ',np.min(XtS,axis=0),'\\n ')\n",
    "print('FeatureMaxTraining : ',np.max(XtS,axis=0),'\\n ')\n",
    "print('FeatureMeanTraining : ',np.mean(XtS,axis=0),'\\n ')\n",
    "print('FeatureVarianceTraining: ',np.var(XtS,axis=0))"
   ]
  },
  {
   "cell_type": "code",
   "execution_count": 4,
   "metadata": {},
   "outputs": [
    {
     "name": "stdout",
     "output_type": "stream",
     "text": [
      "FeatureMinValidation :  [ -5.17541867  -7.67505356  -4.42528976  -8.12282497  -0.79160825\n",
      "  -0.53349959  -0.2121811   -1.15267265  -2.23041451  -1.01655615\n",
      "  -2.11680472  -1.96363455  -0.43234392 -13.70626954] \n",
      " \n",
      "FeatureMaxValidation :  [ 1.25093768  2.25551089  1.85808     2.02379538  7.10353042  7.04814507\n",
      " 13.00389416 42.69450057  4.53465261  4.31818563 13.23940786 38.55858511\n",
      " 45.72191089 10.83126807] \n",
      " \n",
      "FeatureMeanValidation :  [ 0.02194404  0.03075136  0.02393235  0.0293494  -0.00566293 -0.01551557\n",
      " -0.01550453 -0.00686958 -0.02302603 -0.02324811 -0.00083371 -0.01092571\n",
      "  0.00872809  0.02864687] \n",
      " \n",
      "FeatureVarianceValidation  [0.97655478 0.99076438 0.99230346 1.01073618 1.02390038 0.95819356\n",
      " 0.8939146  1.05202934 0.99699839 0.98438264 1.01486649 1.13811436\n",
      " 0.93484672 0.58422476]\n"
     ]
    }
   ],
   "source": [
    "print('FeatureMinValidation : ',np.min(XvS,axis=0),'\\n ')\n",
    "print('FeatureMaxValidation : ',np.max(XvS,axis=0),'\\n ')\n",
    "print('FeatureMeanValidation : ',np.mean(XvS,axis=0),'\\n ')\n",
    "print('FeatureVarianceValidation ',np.var(XvS,axis=0))"
   ]
  },
  {
   "cell_type": "markdown",
   "metadata": {},
   "source": [
    "## 2 Linear Classifiers"
   ]
  },
  {
   "cell_type": "markdown",
   "metadata": {},
   "source": [
    "### 1."
   ]
  },
  {
   "cell_type": "code",
   "execution_count": 18,
   "metadata": {},
   "outputs": [
    {
     "data": {
      "image/png": "[encoded data removed]",
      "text/plain": [
       "<Figure size 432x288 with 1 Axes>"
      ]
     },
     "metadata": {
      "needs_background": "light"
     },
     "output_type": "display_data"
    }
   ],
   "source": [
    "regs = np.linspace( 0, 10, 10 )\n",
    "\n",
    "trAuc = []\n",
    "vaAuc = []\n",
    "for thereg in regs:\n",
    "    learner = ml.linearC.linearClassify()\n",
    "    learner.train(XtS, Yt, reg=thereg, initStep=0.5, stopTol=1e-6, stopIter=100)\n",
    "    trAuc.append(learner.auc(XtS, Yt))\n",
    "    vaAuc.append(learner.auc(XvS, Yva))\n",
    "\n",
    "plt.plot(regs, trAuc, color = 'g', label = \"Training AUC\")\n",
    "plt.legend()\n",
    "plt.plot(regs, vaAuc,color = 'r', label = \"Validation AUC\")\n",
    "plt.legend()\n",
    "plt.xlabel(\"Regularization Weight\")\n",
    "plt.ylabel(\"AUC\")\n",
    "plt.title(\"AUC - Reg Weight\")\n",
    "plt.legend()\n",
    "plt.show()"
   ]
  },
  {
   "cell_type": "markdown",
   "metadata": {},
   "source": [
    "### 2."
   ]
  },
  {
   "cell_type": "code",
   "execution_count": 21,
   "metadata": {},
   "outputs": [
    {
     "name": "stdout",
     "output_type": "stream",
     "text": [
      "119\n"
     ]
    }
   ],
   "source": [
    "XtrPoly = ml.transforms.fpoly(Xt, 2, bias=False)\n",
    "XtrPoly,params = ml.transforms.rescale(XtrPoly)\n",
    "XvaPoly,_ = ml.transforms.rescale(ml.transforms.fpoly(Xva,2,False), params)\n",
    "print( XtrPoly.shape[1])"
   ]
  },
  {
   "cell_type": "markdown",
   "metadata": {},
   "source": [
    "14original + 14degree2 + $C^{2}_{14}$ = 119"
   ]
  },
  {
   "cell_type": "markdown",
   "metadata": {},
   "source": [
    "### 3."
   ]
  },
  {
   "cell_type": "code",
   "execution_count": 22,
   "metadata": {},
   "outputs": [
    {
     "name": "stderr",
     "output_type": "stream",
     "text": [
      "/Users/andrezhang/Desktop/ML/hw4/mltools/base.py:96: RuntimeWarning: divide by zero encountered in log\n",
      "  return - np.mean( np.log( P[ np.arange(M), Y ] ) ) # evaluate\n",
      "/Users/andrezhang/Desktop/ML/hw4/mltools/linearC.py:134: RuntimeWarning: invalid value encountered in double_scalars\n",
      "  done = (it > stopIter) or ( (it>1) and (abs(Jsur[-1]-Jsur[-2])<stopTol) )\n"
     ]
    },
    {
     "data": {
      "image/png": "[encoded data removed]",
      "text/plain": [
       "<Figure size 432x288 with 1 Axes>"
      ]
     },
     "metadata": {
      "needs_background": "light"
     },
     "output_type": "display_data"
    }
   ],
   "source": [
    "regs = np.linspace( 0, 10, 10 )\n",
    "\n",
    "trPAuc = []\n",
    "vaPAuc = []\n",
    "for thereg in regs:\n",
    "    learner = ml.linearC.linearClassify()\n",
    "    learner.train(XtrPoly, Yt, reg=thereg, initStep=0.5, stopTol=1e-6, stopIter=100)\n",
    "    trPAuc.append(learner.auc(XtrPoly, Yt))\n",
    "    vaPAuc.append(learner.auc(XvaPoly, Yva))\n",
    "\n",
    "plt.plot(regs, trPAuc, color = 'g', label = \"Training AUC\")\n",
    "plt.legend()\n",
    "plt.plot(regs, vaPAuc,color = 'r', label = \"Validation AUC\")\n",
    "plt.legend()\n",
    "plt.xlabel(\"Regularization Weight\")\n",
    "plt.ylabel(\"AUC\")\n",
    "plt.title(\"AUC - Reg Weight\")\n",
    "plt.legend()\n",
    "plt.show()"
   ]
  },
  {
   "cell_type": "markdown",
   "metadata": {},
   "source": [
    "## 3 Nearest Neighbors"
   ]
  },
  {
   "cell_type": "markdown",
   "metadata": {},
   "source": [
    "### 1."
   ]
  },
  {
   "cell_type": "code",
   "execution_count": 11,
   "metadata": {},
   "outputs": [
    {
     "data": {
      "image/png": "[encoded data removed]",
      "text/plain": [
       "<Figure size 432x288 with 1 Axes>"
      ]
     },
     "metadata": {
      "needs_background": "light"
     },
     "output_type": "display_data"
    }
   ],
   "source": [
    "ks = [1,2,3,5,7,11,15]\n",
    "learner = ml.knn.knnClassify()\n",
    "trAuc = []\n",
    "vaAuc = []\n",
    "for k in ks:\n",
    "    learner.train(XtS, Yt, K=k, alpha=0.0)\n",
    "    trAuc.append(learner.auc(XtS, Yt))\n",
    "    vaAuc.append(learner.auc(XvS, Yva))\n",
    "\n",
    "plt.plot(ks, trAuc, color = 'g', label = \"Training AUC\")\n",
    "plt.legend()\n",
    "plt.plot(ks, vaAuc,color = 'r', label = \"Validation AUC\")\n",
    "plt.legend()\n",
    "plt.xlabel(\"K\")\n",
    "plt.ylabel(\"AUC\")\n",
    "plt.title(\"AUC - K\")\n",
    "plt.legend()\n",
    "plt.show()"
   ]
  },
  {
   "cell_type": "markdown",
   "metadata": {},
   "source": [
    "### 2."
   ]
  },
  {
   "cell_type": "code",
   "execution_count": 13,
   "metadata": {},
   "outputs": [
    {
     "data": {
      "image/png": "[encoded data removed]",
      "text/plain": [
       "<Figure size 432x288 with 1 Axes>"
      ]
     },
     "metadata": {
      "needs_background": "light"
     },
     "output_type": "display_data"
    }
   ],
   "source": [
    "ks = [1,2,3,5,7,11,15]\n",
    "learner = ml.knn.knnClassify()\n",
    "trAuc = []\n",
    "vaAuc = []\n",
    "for k in ks:\n",
    "    learner.train(Xt, Yt, K=k, alpha=0.0)\n",
    "    trAuc.append(learner.auc(Xt, Yt))\n",
    "    vaAuc.append(learner.auc(Xva, Yva))\n",
    "\n",
    "plt.plot(ks, trAuc, color = 'g', label = \"Training AUC\")\n",
    "plt.legend()\n",
    "plt.plot(ks, vaAuc,color = 'r', label = \"Validation AUC\")\n",
    "plt.legend()\n",
    "plt.xlabel(\"K\")\n",
    "plt.ylabel(\"AUC\")\n",
    "plt.title(\"AUC - K origin\")\n",
    "plt.legend()\n",
    "plt.show()"
   ]
  },
  {
   "cell_type": "markdown",
   "metadata": {},
   "source": [
    "### 3."
   ]
  },
  {
   "cell_type": "code",
   "execution_count": 112,
   "metadata": {},
   "outputs": [],
   "source": [
    "K = range(1,16,2) # Or something else \n",
    "A = range(0,10,1) # Or something else \n",
    "tr_auc = np.zeros((len(K),len(A))) \n",
    "va_auc = np.zeros((len(K),len(A)))\n",
    "learner = ml.knn.knnClassify()\n",
    "for i,k in enumerate(K): \n",
    "    for j,a in enumerate(A):\n",
    "        learner.train(XtS, Yt, K=k, alpha=a)\n",
    "        tr_auc[i][j] = learner.auc(XtS, Yt)\n",
    "        va_auc[i][j] = learner.auc(XvS, Yva)\n",
    "# Now plot it"
   ]
  },
  {
   "cell_type": "code",
   "execution_count": 113,
   "metadata": {},
   "outputs": [
    {
     "data": {
      "image/png": "[encoded data removed]",
      "text/plain": [
       "<Figure size 576x360 with 2 Axes>"
      ]
     },
     "metadata": {
      "needs_background": "light"
     },
     "output_type": "display_data"
    }
   ],
   "source": [
    "f, ax = plt.subplots(1, 1, figsize=(8, 5))\n",
    "cax = ax.matshow(tr_auc, interpolation='nearest') \n",
    "f.colorbar(cax)\n",
    "ax.set_xticklabels(['']+[0,1,2,3,4,5,6,7,8,9]) \n",
    "ax.set_yticklabels(['']+[1,3,5,7,9,11,13,15])\n",
    "ax.set_title(\"Training AUC of scaled Data\")\n",
    "plt.show()"
   ]
  },
  {
   "cell_type": "code",
   "execution_count": 114,
   "metadata": {},
   "outputs": [
    {
     "data": {
      "image/png": "[encoded data removed]",
      "text/plain": [
       "<Figure size 576x360 with 2 Axes>"
      ]
     },
     "metadata": {
      "needs_background": "light"
     },
     "output_type": "display_data"
    }
   ],
   "source": [
    "f, ax = plt.subplots(1, 1, figsize=(8, 5))\n",
    "cax = ax.matshow(va_auc, interpolation='nearest') \n",
    "f.colorbar(cax)\n",
    "ax.set_xticklabels(['']+[0,1,2,3,4]) \n",
    "ax.set_yticklabels(['']+[0,2,4,6,8,10,12,14])\n",
    "ax.set_title(\"validation AUC of scaled Data\")\n",
    "plt.show()"
   ]
  },
  {
   "cell_type": "markdown",
   "metadata": {},
   "source": [
    "I recommand K  = 12 , α = 4"
   ]
  },
  {
   "cell_type": "markdown",
   "metadata": {},
   "source": [
    "## 4 Decision Trees"
   ]
  },
  {
   "cell_type": "markdown",
   "metadata": {},
   "source": [
    "### 1."
   ]
  },
  {
   "cell_type": "code",
   "execution_count": 44,
   "metadata": {},
   "outputs": [],
   "source": [
    "depth = [1,2,3,5,7,11,15]\n",
    "learner = ml.dtree.treeClassify()\n",
    "trAuc = []\n",
    "vaAuc = []\n",
    "for d in depth:\n",
    "    learner.train(XtS,Yt,maxDepth=d,minParent = 2,minLeaf = 1)\n",
    "    trAuc.append(learner.auc(XtS,Yt))\n",
    "    vaAuc.append(learner.auc(XvS, Yva))"
   ]
  },
  {
   "cell_type": "code",
   "execution_count": 46,
   "metadata": {},
   "outputs": [
    {
     "data": {
      "image/png": "[encoded data removed]",
      "text/plain": [
       "<Figure size 432x288 with 1 Axes>"
      ]
     },
     "metadata": {
      "needs_background": "light"
     },
     "output_type": "display_data"
    }
   ],
   "source": [
    "plt.plot(ks, trAuc, color = 'g', label = \"Training AUC\")\n",
    "plt.legend()\n",
    "plt.plot(ks, vaAuc,color = 'r', label = \"Validation AUC\")\n",
    "plt.legend()\n",
    "plt.xlabel(\"maxDepth\")\n",
    "plt.ylabel(\"AUC\")\n",
    "plt.title(\"AUC - maxDepth\")\n",
    "plt.legend()\n",
    "plt.show()"
   ]
  },
  {
   "cell_type": "markdown",
   "metadata": {},
   "source": [
    "### 2."
   ]
  },
  {
   "cell_type": "code",
   "execution_count": 92,
   "metadata": {},
   "outputs": [],
   "source": [
    "depth = [1,2,3,5,7,11,15]\n",
    "learner = ml.dtree.treeClassify()\n",
    "node1=[]\n",
    "node2=[]\n",
    "for  d in depth: \n",
    "    learner.train(XtS,Yt,maxDepth=d,minParent = 2,minLeaf = 1)\n",
    "    node1.append(learner.sz)\n",
    "    learner.train(XtS,Yt,maxDepth=d,minParent = 2,minLeaf = 3)\n",
    "    node2.append(learner.sz)"
   ]
  },
  {
   "cell_type": "code",
   "execution_count": 93,
   "metadata": {},
   "outputs": [
    {
     "data": {
      "image/png": "[encoded data removed]",
      "text/plain": [
       "<Figure size 432x288 with 1 Axes>"
      ]
     },
     "metadata": {
      "needs_background": "light"
     },
     "output_type": "display_data"
    }
   ],
   "source": [
    "plt.plot(depth, node1, color = \"blue\", label = \"minLeaf = 1\")  \n",
    "plt.plot(depth, node2,  color = \"orange\", label = \"minLeaf = 3\")\n",
    "plt.xticks(depth)\n",
    "plt.xlabel(\"maxDepth\")\n",
    "plt.ylabel(\"Number of Nodes\")\n",
    "plt.title(\"Nodes Number - maxDepth\")\n",
    "plt.legend()\n",
    "plt.show()"
   ]
  },
  {
   "cell_type": "markdown",
   "metadata": {},
   "source": [
    "### 3."
   ]
  },
  {
   "cell_type": "code",
   "execution_count": 98,
   "metadata": {},
   "outputs": [],
   "source": [
    "parents = range(1,16,3) \n",
    "leafs = range(1,11,2)\n",
    "\n",
    "trauc = np.zeros((len(parents),len(leafs)))\n",
    "vaauc = np.zeros((len(parents),len(leafs)))\n",
    "\n",
    "for i,p in enumerate(parents):\n",
    "    for j,l in enumerate(leafs):\n",
    "        learner = ml.dtree.treeClassify()\n",
    "        learner.train(XtS, Yt, maxDepth = 14,minParent = p, minLeaf= l)\n",
    "        trauc[i][j] = learner.auc(XtS, Yt) # train learner using k and a\n",
    "        vaauc[i][j] = learner.auc(XvS, Yva)"
   ]
  },
  {
   "cell_type": "code",
   "execution_count": 99,
   "metadata": {},
   "outputs": [
    {
     "data": {
      "image/png": "[encoded data removed]",
      "text/plain": [
       "<Figure size 576x360 with 2 Axes>"
      ]
     },
     "metadata": {
      "needs_background": "light"
     },
     "output_type": "display_data"
    }
   ],
   "source": [
    "f, ax = plt.subplots(1, 1, figsize=(8, 5))\n",
    "\n",
    "cax1 = ax.matshow(trauc, interpolation='nearest')\n",
    "f.colorbar(cax1)\n",
    "ax.set_xticklabels(['']+[1,4,7,10,13,16])\n",
    "ax.set_yticklabels(['']+[1,3,5,7,9,11])\n",
    "ax.set_xlabel(\"minLeaf\")\n",
    "ax.set_ylabel(\"minParent\")\n",
    "ax.set_title(\"Training AUC\")\n",
    "plt.show()"
   ]
  },
  {
   "cell_type": "code",
   "execution_count": 100,
   "metadata": {},
   "outputs": [
    {
     "data": {
      "image/png": "[encoded data removed]",
      "text/plain": [
       "<Figure size 576x360 with 2 Axes>"
      ]
     },
     "metadata": {
      "needs_background": "light"
     },
     "output_type": "display_data"
    }
   ],
   "source": [
    "f1, ax = plt.subplots(1, 1, figsize=(8, 5))\n",
    "\n",
    "cax1 = ax.matshow(vaauc, interpolation='nearest')\n",
    "f1.colorbar(cax1)\n",
    "ax.set_xticklabels(['']+[1,4,7,10,13,16])\n",
    "ax.set_yticklabels(['']+[1,3,5,7,9,11])\n",
    "ax.set_xlabel(\"minLeaf\")\n",
    "ax.set_ylabel(\"minParent\")\n",
    "ax.set_title(\"validation AUC\")\n",
    "\n",
    "plt.show()"
   ]
  },
  {
   "cell_type": "markdown",
   "metadata": {},
   "source": [
    "i recommand minParent = 5, minLeaf = 13"
   ]
  },
  {
   "cell_type": "markdown",
   "metadata": {},
   "source": [
    "## 5 Neural Networks"
   ]
  },
  {
   "cell_type": "markdown",
   "metadata": {},
   "source": [
    "### 1."
   ]
  },
  {
   "cell_type": "code",
   "execution_count": 107,
   "metadata": {},
   "outputs": [
    {
     "name": "stdout",
     "output_type": "stream",
     "text": [
      "it 1 : Jsur = 0.4206287417181429, J01 = 0.3094\n",
      "it 2 : Jsur = 0.4201908494317259, J01 = 0.3102\n",
      "it 4 : Jsur = 0.41715234031636644, J01 = 0.3076\n",
      "it 8 : Jsur = 0.41566697896291316, J01 = 0.3092\n",
      "it 16 : Jsur = 0.4152070390281243, J01 = 0.3086\n",
      "it 32 : Jsur = 0.4151509806263817, J01 = 0.308\n",
      "it 64 : Jsur = 0.41528580543772775, J01 = 0.31\n",
      "it 128 : Jsur = 0.41547352624146117, J01 = 0.31\n",
      "it 256 : Jsur = 0.4156596823930309, J01 = 0.3102\n",
      "it 1 : Jsur = 0.4199867050815302, J01 = 0.3108\n",
      "it 2 : Jsur = 0.4192625312945869, J01 = 0.3096\n",
      "it 4 : Jsur = 0.4169179874873444, J01 = 0.31\n",
      "it 8 : Jsur = 0.4144669853705504, J01 = 0.31\n",
      "it 16 : Jsur = 0.4127614656010617, J01 = 0.3086\n",
      "it 32 : Jsur = 0.4115712849271547, J01 = 0.3106\n",
      "it 64 : Jsur = 0.4109477795971356, J01 = 0.3086\n",
      "it 128 : Jsur = 0.41060932433275005, J01 = 0.3092\n",
      "it 256 : Jsur = 0.4103877186614216, J01 = 0.3088\n",
      "it 1 : Jsur = 0.41915265349296205, J01 = 0.3098\n",
      "it 2 : Jsur = 0.4179133389960628, J01 = 0.308\n",
      "it 4 : Jsur = 0.41605882246585263, J01 = 0.3096\n",
      "it 8 : Jsur = 0.41396849759719373, J01 = 0.31\n",
      "it 16 : Jsur = 0.41230204626402694, J01 = 0.3098\n",
      "it 32 : Jsur = 0.4109691157970281, J01 = 0.3094\n",
      "it 64 : Jsur = 0.41004493675035647, J01 = 0.3066\n",
      "it 128 : Jsur = 0.409330668312766, J01 = 0.3066\n",
      "it 256 : Jsur = 0.40865496866262335, J01 = 0.306\n",
      "it 1 : Jsur = 0.4196992169479257, J01 = 0.3138\n",
      "it 2 : Jsur = 0.4190481090719115, J01 = 0.3102\n",
      "it 4 : Jsur = 0.416796678287539, J01 = 0.3126\n",
      "it 8 : Jsur = 0.41421200013666276, J01 = 0.311\n",
      "it 16 : Jsur = 0.4121945498851333, J01 = 0.3088\n",
      "it 32 : Jsur = 0.4109511075282908, J01 = 0.307\n",
      "it 64 : Jsur = 0.4102326731945046, J01 = 0.308\n",
      "it 128 : Jsur = 0.40978360651209206, J01 = 0.307\n",
      "it 256 : Jsur = 0.4094000983136727, J01 = 0.3062\n",
      "it 1 : Jsur = 0.4195275136223152, J01 = 0.3136\n",
      "it 2 : Jsur = 0.4179180492917484, J01 = 0.3092\n",
      "it 4 : Jsur = 0.41568199498787656, J01 = 0.3104\n",
      "it 8 : Jsur = 0.413237694898739, J01 = 0.3092\n",
      "it 16 : Jsur = 0.41132371986609706, J01 = 0.3076\n",
      "it 32 : Jsur = 0.41002638094332633, J01 = 0.3064\n",
      "it 64 : Jsur = 0.4092928401413998, J01 = 0.3048\n",
      "it 128 : Jsur = 0.40889129387221956, J01 = 0.3048\n",
      "it 256 : Jsur = 0.4083025764474144, J01 = 0.3056\n",
      "it 1 : Jsur = 0.4192130261781418, J01 = 0.311\n",
      "it 2 : Jsur = 0.4179462144115263, J01 = 0.309\n",
      "it 4 : Jsur = 0.4161797674241774, J01 = 0.3082\n",
      "it 8 : Jsur = 0.41408947432160814, J01 = 0.3086\n",
      "it 16 : Jsur = 0.41260475495734633, J01 = 0.3076\n",
      "it 32 : Jsur = 0.4115784322365872, J01 = 0.308\n",
      "it 64 : Jsur = 0.4108083145259433, J01 = 0.307\n",
      "it 128 : Jsur = 0.40987054000260853, J01 = 0.3068\n",
      "it 256 : Jsur = 0.4081309214207493, J01 = 0.3036\n",
      "it 1 : Jsur = 0.41842516475900354, J01 = 0.3098\n",
      "it 2 : Jsur = 0.4174252082211778, J01 = 0.3076\n",
      "it 4 : Jsur = 0.41572337912407775, J01 = 0.3106\n",
      "it 8 : Jsur = 0.41382440095484735, J01 = 0.3078\n",
      "it 16 : Jsur = 0.4120744087740889, J01 = 0.3088\n",
      "it 32 : Jsur = 0.410720501749853, J01 = 0.3078\n",
      "it 64 : Jsur = 0.40973967374920356, J01 = 0.3056\n",
      "it 128 : Jsur = 0.4089213363262617, J01 = 0.3056\n",
      "it 256 : Jsur = 0.40801295364143986, J01 = 0.3044\n",
      "it 1 : Jsur = 0.4187988903813075, J01 = 0.31\n",
      "it 2 : Jsur = 0.4178449696233631, J01 = 0.3102\n",
      "it 4 : Jsur = 0.4153672449044485, J01 = 0.3102\n",
      "it 8 : Jsur = 0.4133458179925769, J01 = 0.3096\n",
      "it 16 : Jsur = 0.41176951713723675, J01 = 0.3084\n",
      "it 32 : Jsur = 0.4104001181926149, J01 = 0.3072\n",
      "it 64 : Jsur = 0.40949043554915754, J01 = 0.3076\n",
      "it 128 : Jsur = 0.40868543216380665, J01 = 0.306\n",
      "it 256 : Jsur = 0.40687926074718206, J01 = 0.3034\n",
      "it 1 : Jsur = 0.42018510133831694, J01 = 0.3136\n",
      "it 2 : Jsur = 0.4185873203802021, J01 = 0.309\n",
      "it 4 : Jsur = 0.4164980002960048, J01 = 0.3112\n",
      "it 8 : Jsur = 0.4143824604705154, J01 = 0.3104\n",
      "it 16 : Jsur = 0.41263048062746327, J01 = 0.3076\n",
      "it 32 : Jsur = 0.4112648858990392, J01 = 0.3076\n",
      "it 64 : Jsur = 0.4101381406734987, J01 = 0.306\n",
      "it 128 : Jsur = 0.4090223897897654, J01 = 0.3058\n",
      "it 256 : Jsur = 0.40534741623962534, J01 = 0.3036\n",
      "it 1 : Jsur = 0.42014441024873683, J01 = 0.3118\n",
      "it 2 : Jsur = 0.4185919207705105, J01 = 0.3088\n",
      "it 4 : Jsur = 0.4162917686860239, J01 = 0.3098\n",
      "it 8 : Jsur = 0.41401817670254504, J01 = 0.3094\n",
      "it 16 : Jsur = 0.41217887557832894, J01 = 0.3086\n",
      "it 32 : Jsur = 0.4108342749075892, J01 = 0.3062\n",
      "it 64 : Jsur = 0.4100384193733822, J01 = 0.305\n",
      "it 128 : Jsur = 0.4095398633889891, J01 = 0.3056\n",
      "it 256 : Jsur = 0.4088883960123468, J01 = 0.3054\n",
      "it 1 : Jsur = 0.4196599387595434, J01 = 0.3108\n",
      "it 2 : Jsur = 0.41758884747582586, J01 = 0.3076\n",
      "it 4 : Jsur = 0.4154632083512508, J01 = 0.3102\n",
      "it 8 : Jsur = 0.41353836508772757, J01 = 0.3094\n",
      "it 16 : Jsur = 0.41188967487100125, J01 = 0.3092\n",
      "it 32 : Jsur = 0.41053390123444944, J01 = 0.3066\n",
      "it 64 : Jsur = 0.40893726410647574, J01 = 0.304\n",
      "it 128 : Jsur = 0.4067870078722299, J01 = 0.3022\n",
      "it 256 : Jsur = 0.40485798253232996, J01 = 0.3026\n",
      "it 1 : Jsur = 0.41985371107982794, J01 = 0.312\n",
      "it 2 : Jsur = 0.4180901148836803, J01 = 0.3074\n",
      "it 4 : Jsur = 0.41603966920291, J01 = 0.309\n",
      "it 8 : Jsur = 0.4139911388994208, J01 = 0.3084\n",
      "it 16 : Jsur = 0.41160758981176143, J01 = 0.3092\n",
      "it 32 : Jsur = 0.40870168761646264, J01 = 0.3074\n",
      "it 64 : Jsur = 0.40671677405926987, J01 = 0.3046\n",
      "it 128 : Jsur = 0.4046002288566908, J01 = 0.303\n",
      "it 256 : Jsur = 0.40179899468062524, J01 = 0.2992\n",
      "it 1 : Jsur = 0.42005287084095216, J01 = 0.314\n",
      "it 2 : Jsur = 0.4186143896618734, J01 = 0.3102\n",
      "it 4 : Jsur = 0.4164512261887322, J01 = 0.3102\n",
      "it 8 : Jsur = 0.41433602017350896, J01 = 0.311\n",
      "it 16 : Jsur = 0.41252142091730276, J01 = 0.308\n",
      "it 32 : Jsur = 0.4112245679287104, J01 = 0.3074\n",
      "it 64 : Jsur = 0.4103962031198507, J01 = 0.3068\n",
      "it 128 : Jsur = 0.40958438919198514, J01 = 0.3072\n",
      "it 256 : Jsur = 0.4084732272976511, J01 = 0.305\n",
      "it 1 : Jsur = 0.41924559316790844, J01 = 0.3136\n",
      "it 2 : Jsur = 0.41793476130202617, J01 = 0.3092\n",
      "it 4 : Jsur = 0.4159371959648935, J01 = 0.3104\n",
      "it 8 : Jsur = 0.41389823150894245, J01 = 0.309\n",
      "it 16 : Jsur = 0.41215052800432694, J01 = 0.3066\n",
      "it 32 : Jsur = 0.41105514028120954, J01 = 0.3074\n",
      "it 64 : Jsur = 0.4102189464643322, J01 = 0.308\n",
      "it 128 : Jsur = 0.40851948392530146, J01 = 0.3028\n",
      "it 256 : Jsur = 0.40649240390274916, J01 = 0.3016\n",
      "it 1 : Jsur = 0.4187619163055355, J01 = 0.3094\n",
      "it 2 : Jsur = 0.4176368018791716, J01 = 0.3094\n",
      "it 4 : Jsur = 0.4152396937951546, J01 = 0.3094\n",
      "it 8 : Jsur = 0.41294915699349866, J01 = 0.3086\n",
      "it 16 : Jsur = 0.4112965860078408, J01 = 0.3072\n",
      "it 32 : Jsur = 0.409111247781951, J01 = 0.3044\n",
      "it 64 : Jsur = 0.407513447775239, J01 = 0.3032\n",
      "it 128 : Jsur = 0.40595300387504907, J01 = 0.305\n",
      "it 256 : Jsur = 0.40407332562703224, J01 = 0.3042\n",
      "it 1 : Jsur = 0.4194519719943939, J01 = 0.3108\n",
      "it 2 : Jsur = 0.41756599655643806, J01 = 0.309\n",
      "it 4 : Jsur = 0.4152545179518759, J01 = 0.308\n",
      "it 8 : Jsur = 0.413317898350406, J01 = 0.3092\n",
      "it 16 : Jsur = 0.411525550728439, J01 = 0.3078\n",
      "it 32 : Jsur = 0.40938114293630057, J01 = 0.3056\n",
      "it 64 : Jsur = 0.40757592186584324, J01 = 0.3036\n",
      "it 128 : Jsur = 0.40617167587912884, J01 = 0.3032\n",
      "it 256 : Jsur = 0.40491850622734293, J01 = 0.3022\n"
     ]
    }
   ],
   "source": [
    "layers = range(1,5,1) \n",
    "nodes = range(2,6,1) \n",
    "\n",
    "tr_auc = np.zeros((len(layers),len(nodes)))\n",
    "va_auc = np.zeros((len(layers),len(nodes)))\n",
    "\n",
    "\n",
    "for i, layer in enumerate(layers):\n",
    "    for j, node in enumerate(nodes):\n",
    "        nn = ml.nnet.nnetClassify()\n",
    "        nn.init_weights([XtS.shape[1], layer*node, 2], 'random', XtS, Yt)\n",
    "        nn.train(XtS, Yt, stopTol=1e-8, stepsize=.25, stopIter=300)\n",
    "        tr_auc[i][j] = nn.auc(XtS, Yt) \n",
    "        va_auc[i][j] = nn.auc(XvS, Yva)\n",
    "        "
   ]
  },
  {
   "cell_type": "code",
   "execution_count": 109,
   "metadata": {},
   "outputs": [
    {
     "data": {
      "image/png": "[encoded data removed]",
      "text/plain": [
       "<Figure size 576x360 with 2 Axes>"
      ]
     },
     "metadata": {
      "needs_background": "light"
     },
     "output_type": "display_data"
    }
   ],
   "source": [
    "f, ax = plt.subplots(1, 1, figsize=(8, 5))\n",
    "cax1 = ax.matshow(tr_auc, interpolation='nearest')\n",
    "f.colorbar(cax1)\n",
    "ax.set_xticklabels(['']+[2,3,4,5,6])\n",
    "ax.set_yticklabels(['']+[1,2,3,4,5])\n",
    "\n",
    "plt.show()"
   ]
  },
  {
   "cell_type": "code",
   "execution_count": 110,
   "metadata": {},
   "outputs": [
    {
     "data": {
      "image/png": "[encoded data removed]",
      "text/plain": [
       "<Figure size 576x360 with 2 Axes>"
      ]
     },
     "metadata": {
      "needs_background": "light"
     },
     "output_type": "display_data"
    }
   ],
   "source": [
    "f, ax = plt.subplots(1, 1, figsize=(8, 5))\n",
    "cax1 = ax.matshow(va_auc, interpolation='nearest')\n",
    "f.colorbar(cax1)\n",
    "ax.set_xticklabels(['']+[2,3,4,5,6])\n",
    "ax.set_yticklabels(['']+[1,2,3,4,5])\n",
    "\n",
    "plt.show()"
   ]
  },
  {
   "cell_type": "markdown",
   "metadata": {},
   "source": [
    "I recommand layer = 1, node = 2."
   ]
  },
  {
   "cell_type": "markdown",
   "metadata": {},
   "source": [
    "### 2."
   ]
  },
  {
   "cell_type": "code",
   "execution_count": 116,
   "metadata": {},
   "outputs": [
    {
     "name": "stdout",
     "output_type": "stream",
     "text": [
      "it 1 : Jsur = 0.42119077004757094, J01 = 0.3112\n",
      "it 2 : Jsur = 0.4187481012456978, J01 = 0.3114\n",
      "it 4 : Jsur = 0.41743547445710266, J01 = 0.3094\n",
      "it 8 : Jsur = 0.4165811558716916, J01 = 0.3124\n",
      "it 16 : Jsur = 0.4159777572545504, J01 = 0.3122\n",
      "it 32 : Jsur = 0.41563688231620416, J01 = 0.3122\n",
      "it 64 : Jsur = 0.41541869852189556, J01 = 0.3112\n",
      "it 128 : Jsur = 0.4153642149154838, J01 = 0.3102\n",
      "Train AUC 0.6584058646289566\n",
      "Validation AUC 0.6490642681323356\n"
     ]
    }
   ],
   "source": [
    "def sig(z): return np.atleast_2d(z)\n",
    "def dsig(z): return np.atleast_2d(1)\n",
    "nn.setActivation('custom', sig, dsig)\n",
    "nn.init_weights([XtS.shape[1], 2*1, 2], 'random', XtS, Yt)\n",
    "nn.train(XtS, Yt, stopTol=1e-8, stepsize=.25, stopIter=300)\n",
    "traucs= nn.auc(XtS, Yt) \n",
    "vaaucs = nn.auc(XvS, Yva)\n",
    "print('Train AUC',traucs)\n",
    "print('Validation AUC', vaaucs)\n"
   ]
  },
  {
   "cell_type": "code",
   "execution_count": 117,
   "metadata": {},
   "outputs": [
    {
     "name": "stdout",
     "output_type": "stream",
     "text": [
      "it 1 : Jsur = 0.4262855365950545, J01 = 0.343\n",
      "it 2 : Jsur = 0.42642146181245844, J01 = 0.343\n",
      "it 4 : Jsur = 0.42553095507036304, J01 = 0.343\n",
      "it 8 : Jsur = 0.4250461633189008, J01 = 0.343\n",
      "it 16 : Jsur = 0.4251905308881898, J01 = 0.343\n",
      "it 32 : Jsur = 0.4255639289332379, J01 = 0.343\n",
      "it 64 : Jsur = 0.4259906669290551, J01 = 0.343\n",
      "it 128 : Jsur = 0.42640104626319936, J01 = 0.343\n",
      "it 256 : Jsur = 0.42676848197349126, J01 = 0.343\n",
      "Train AUC 0.6542168439456669\n",
      "Validation AUC 0.6454596140822811\n"
     ]
    }
   ],
   "source": [
    "nn.init_weights([XtS.shape[1], 2*1, 2], 'random', XtS, Yt)\n",
    "nn.setActivation('logistic', sig, dsig)\n",
    "nn.train(XtS, Yt, stopTol=1e-8, stepsize=.25, stopIter=300)\n",
    "traucs= nn.auc(XtS, Yt) \n",
    "vaaucs = nn.auc(XvS, Yva)\n",
    "print('Train AUC',traucs)\n",
    "print('Validation AUC', vaaucs)"
   ]
  },
  {
   "cell_type": "code",
   "execution_count": 118,
   "metadata": {},
   "outputs": [
    {
     "name": "stdout",
     "output_type": "stream",
     "text": [
      "it 1 : Jsur = 0.42065750038222866, J01 = 0.3096\n",
      "it 2 : Jsur = 0.4199977746743363, J01 = 0.3092\n",
      "it 4 : Jsur = 0.416914626359005, J01 = 0.3062\n",
      "it 8 : Jsur = 0.41548545499875417, J01 = 0.3088\n",
      "it 16 : Jsur = 0.41510668496948583, J01 = 0.309\n",
      "it 32 : Jsur = 0.41508976255825225, J01 = 0.3082\n",
      "it 64 : Jsur = 0.41524528791233234, J01 = 0.3092\n",
      "it 128 : Jsur = 0.41544744699778985, J01 = 0.3096\n",
      "it 256 : Jsur = 0.4156432240963823, J01 = 0.3098\n",
      "Train AUC 0.6590020900728197\n",
      "Validation AUC 0.6461528762590945\n"
     ]
    }
   ],
   "source": [
    "nn.init_weights([XtS.shape[1], 2*1, 2], 'random', XtS, Yt)\n",
    "nn.setActivation('htangent', sig, dsig)\n",
    "nn.train(XtS, Yt, stopTol=1e-8, stepsize=.25, stopIter=300)\n",
    "traucs= nn.auc(XtS, Yt) \n",
    "vaaucs = nn.auc(XvS, Yva)\n",
    "print('Train AUC',traucs)\n",
    "print('Validation AUC', vaaucs)"
   ]
  },
  {
   "cell_type": "markdown",
   "metadata": {},
   "source": [
    "## 6 Conclusions"
   ]
  },
  {
   "cell_type": "code",
   "execution_count": null,
   "metadata": {},
   "outputs": [],
   "source": []
  },
  {
   "cell_type": "markdown",
   "metadata": {},
   "source": [
    "## 7 Statement of Collaboration"
   ]
  },
  {
   "cell_type": "markdown",
   "metadata": {},
   "source": [
    "I obey all the rules of UCI academic integrity and finish the project only by my own.\n",
    "Ziyang Zhang 19/11/2018"
   ]
  }
 ],
 "metadata": {
  "kernelspec": {
   "display_name": "Python 3",
   "language": "python",
   "name": "python3"
  },
  "language_info": {
   "codemirror_mode": {
    "name": "ipython",
    "version": 3
   },
   "file_extension": ".py",
   "mimetype": "text/x-python",
   "name": "python",
   "nbconvert_exporter": "python",
   "pygments_lexer": "ipython3",
   "version": "3.6.5"
  }
 },
 "nbformat": 4,
 "nbformat_minor": 2
}
