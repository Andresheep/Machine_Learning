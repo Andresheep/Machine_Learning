{
 "cells": [
  {
   "cell_type": "markdown",
   "metadata": {},
   "source": [
    "# Problem 1: Python & Data Exploration"
   ]
  },
  {
   "cell_type": "markdown",
   "metadata": {},
   "source": [
    "## part 1"
   ]
  },
  {
   "cell_type": "code",
   "execution_count": 2,
   "metadata": {},
   "outputs": [
    {
     "data": {
      "text/plain": [
       "(148, 4)"
      ]
     },
     "execution_count": 2,
     "metadata": {},
     "output_type": "execute_result"
    }
   ],
   "source": [
    "import numpy as np\n",
    "import matplotlib.pyplot as plt\n",
    "\n",
    "iris = np.genfromtxt(\"data/iris.txt\",delimiter=None) # load the text file \n",
    "Y = iris[:,-1] # target value is the last column\n",
    "X = iris[:,0:-1] # features are the other columns\n",
    "X.shape"
   ]
  },
  {
   "cell_type": "markdown",
   "metadata": {},
   "source": [
    "4 is the number of features , 148 is the number of data points. "
   ]
  },
  {
   "cell_type": "markdown",
   "metadata": {},
   "source": [
    "## part 2"
   ]
  },
  {
   "cell_type": "markdown",
   "metadata": {},
   "source": [
    "Feature 1 :"
   ]
  },
  {
   "cell_type": "code",
   "execution_count": 9,
   "metadata": {},
   "outputs": [
    {
     "data": {
      "image/png": "[encoded data removed]",
      "text/plain": [
       "<Figure size 432x288 with 1 Axes>"
      ]
     },
     "metadata": {
      "needs_background": "light"
     },
     "output_type": "display_data"
    }
   ],
   "source": [
    "import numpy as np\n",
    "import matplotlib.pyplot as plt\n",
    "\n",
    "iris = np.genfromtxt(\"data/iris.txt\",delimiter=None) # load the text file \n",
    "Y = iris[:,-1] # target value is the last column\n",
    "X = iris[:,0:-1] # features are the other columns\n",
    "m = X[:,0]\n",
    "plt.hist(m  )\n",
    "plt.show()"
   ]
  },
  {
   "cell_type": "markdown",
   "metadata": {},
   "source": [
    "after fixing the parameter bin and X[;,0], i have the result. The rest is the same."
   ]
  },
  {
   "cell_type": "markdown",
   "metadata": {},
   "source": [
    "Feature 2 :"
   ]
  },
  {
   "cell_type": "code",
   "execution_count": 10,
   "metadata": {},
   "outputs": [
    {
     "data": {
      "image/png": "[encoded data removed]",
      "text/plain": [
       "<Figure size 432x288 with 1 Axes>"
      ]
     },
     "metadata": {
      "needs_background": "light"
     },
     "output_type": "display_data"
    }
   ],
   "source": [
    "import numpy as np\n",
    "import matplotlib.pyplot as plt\n",
    "\n",
    "iris = np.genfromtxt(\"data/iris.txt\",delimiter=None) # load the text file \n",
    "Y = iris[:,-1] # target value is the last column\n",
    "X = iris[:,0:-1] # features are the other columns\n",
    "m = X[:,1]\n",
    "plt.hist(m  )\n",
    "plt.show()"
   ]
  },
  {
   "cell_type": "markdown",
   "metadata": {},
   "source": [
    "Fearture 3 :"
   ]
  },
  {
   "cell_type": "code",
   "execution_count": 11,
   "metadata": {},
   "outputs": [
    {
     "data": {
      "image/png": "[encoded data removed]",
      "text/plain": [
       "<Figure size 432x288 with 1 Axes>"
      ]
     },
     "metadata": {
      "needs_background": "light"
     },
     "output_type": "display_data"
    }
   ],
   "source": [
    "import numpy as np\n",
    "import matplotlib.pyplot as plt\n",
    "\n",
    "iris = np.genfromtxt(\"data/iris.txt\",delimiter=None) # load the text file \n",
    "Y = iris[:,-1] # target value is the last column\n",
    "X = iris[:,0:-1] # features are the other columns\n",
    "m = X[:,2]\n",
    "plt.hist(m  )\n",
    "plt.show()"
   ]
  },
  {
   "cell_type": "markdown",
   "metadata": {},
   "source": [
    "Feature 4:"
   ]
  },
  {
   "cell_type": "code",
   "execution_count": 12,
   "metadata": {},
   "outputs": [
    {
     "data": {
      "image/png": "[encoded data removed]",
      "text/plain": [
       "<Figure size 432x288 with 1 Axes>"
      ]
     },
     "metadata": {
      "needs_background": "light"
     },
     "output_type": "display_data"
    }
   ],
   "source": [
    "import numpy as np\n",
    "import matplotlib.pyplot as plt\n",
    "\n",
    "iris = np.genfromtxt(\"data/iris.txt\",delimiter=None) # load the text file \n",
    "Y = iris[:,-1] # target value is the last column\n",
    "X = iris[:,0:-1] # features are the other columns\n",
    "m = X[:,3]\n",
    "plt.hist(m  )\n",
    "plt.show()"
   ]
  },
  {
   "cell_type": "markdown",
   "metadata": {},
   "source": [
    "## part 3"
   ]
  },
  {
   "cell_type": "code",
   "execution_count": 20,
   "metadata": {},
   "outputs": [
    {
     "name": "stdout",
     "output_type": "stream",
     "text": [
      "5.900103764189188\n",
      "0.833402066774894\n"
     ]
    }
   ],
   "source": [
    "import numpy as np\n",
    "import matplotlib.pyplot as plt\n",
    "\n",
    "iris = np.genfromtxt(\"data/iris.txt\",delimiter=None) # load the text file \n",
    "Y = iris[:,-1] # target value is the last column\n",
    "X = iris[:,0:-1] # features are the other columns\n",
    "m = X[:,0]\n",
    "print(np.mean(m))\n",
    "print(np.std(m))"
   ]
  },
  {
   "cell_type": "markdown",
   "metadata": {},
   "source": [
    "For feature 1 , mean is 5.9001 while standard deviation is 0.8334 ."
   ]
  },
  {
   "cell_type": "code",
   "execution_count": 21,
   "metadata": {},
   "outputs": [
    {
     "name": "stdout",
     "output_type": "stream",
     "text": [
      "3.098930916891892\n",
      "0.43629183800107685\n"
     ]
    }
   ],
   "source": [
    "import numpy as np\n",
    "import matplotlib.pyplot as plt\n",
    "\n",
    "iris = np.genfromtxt(\"data/iris.txt\",delimiter=None) # load the text file \n",
    "Y = iris[:,-1] # target value is the last column\n",
    "X = iris[:,0:-1] # features are the other columns\n",
    "m = X[:,1]\n",
    "print(np.mean(m))\n",
    "print(np.std(m))"
   ]
  },
  {
   "cell_type": "markdown",
   "metadata": {},
   "source": [
    "For feature 2 , mean is 3.0989 while standard deviation is 0.43629 ."
   ]
  },
  {
   "cell_type": "code",
   "execution_count": 22,
   "metadata": {},
   "outputs": [
    {
     "name": "stdout",
     "output_type": "stream",
     "text": [
      "3.8195548405405404\n",
      "1.7540571093439352\n"
     ]
    }
   ],
   "source": [
    "import numpy as np\n",
    "import matplotlib.pyplot as plt\n",
    "\n",
    "iris = np.genfromtxt(\"data/iris.txt\",delimiter=None) # load the text file \n",
    "Y = iris[:,-1] # target value is the last column\n",
    "X = iris[:,0:-1] # features are the other columns\n",
    "m = X[:,2]\n",
    "print(np.mean(m))\n",
    "print(np.std(m))"
   ]
  },
  {
   "cell_type": "markdown",
   "metadata": {},
   "source": [
    "For feature 2 , mean is 3.8196 while standard deviation is 1.754 ."
   ]
  },
  {
   "cell_type": "code",
   "execution_count": 23,
   "metadata": {},
   "outputs": [
    {
     "name": "stdout",
     "output_type": "stream",
     "text": [
      "1.2525554845945945\n",
      "0.7587724570263247\n"
     ]
    }
   ],
   "source": [
    "import numpy as np\n",
    "import matplotlib.pyplot as plt\n",
    "\n",
    "iris = np.genfromtxt(\"data/iris.txt\",delimiter=None) # load the text file \n",
    "Y = iris[:,-1] # target value is the last column\n",
    "X = iris[:,0:-1] # features are the other columns\n",
    "m = X[:,3]\n",
    "print(np.mean(m))\n",
    "print(np.std(m))"
   ]
  },
  {
   "cell_type": "markdown",
   "metadata": {},
   "source": [
    "For feature 2 , mean is 1.2526 while standard deviation is 0.7588 ."
   ]
  },
  {
   "cell_type": "markdown",
   "metadata": {},
   "source": [
    "## part 4"
   ]
  },
  {
   "cell_type": "markdown",
   "metadata": {},
   "source": [
    "Features ( 1 , 2 )  :"
   ]
  },
  {
   "cell_type": "code",
   "execution_count": 24,
   "metadata": {},
   "outputs": [
    {
     "data": {
      "image/png": "[encoded data removed]",
      "text/plain": [
       "<Figure size 432x288 with 1 Axes>"
      ]
     },
     "metadata": {
      "needs_background": "light"
     },
     "output_type": "display_data"
    }
   ],
   "source": [
    "import numpy as np\n",
    "import matplotlib.pyplot as plt\n",
    "\n",
    "iris = np.genfromtxt(\"data/iris.txt\",delimiter=None) # load the text file \n",
    "Y = iris[:,-1] # target value is the last column\n",
    "X = iris[:,0:-1] # features are the other columns\n",
    "plt.xlabel(\"Feature 1 Value\")\n",
    "plt.ylabel(\"Feature 2 Value\")\n",
    "class0x = []\n",
    "class0y = []\n",
    "class1x = []\n",
    "class1y = []\n",
    "class2x = []\n",
    "class2y = []\n",
    "for i in range(148): \n",
    "    if Y[i] == 0:  # y = 0\n",
    "        class0x.append(X[i,0])\n",
    "        class0y.append(X[i,1])\n",
    "\n",
    "    if Y[i] == 1:  # y = 1\n",
    "        class1x.append(X[i,0])\n",
    "        class1y.append(X[i,1])\n",
    "\n",
    "    if Y[i] == 2:  # y = 2\n",
    "        class2x.append(X[i,0])\n",
    "        class2y.append(X[i,1]) #class all the data points by y\n",
    "plt.scatter(class0x,class0y,c = 'b', label = 'y = 0')\n",
    "plt.legend()\n",
    "plt.scatter(class1x,class1y,c = 'g', label = 'y = 1')\n",
    "plt.legend()\n",
    "plt.scatter(class2x,class2y,c = 'r', label = 'y = 2')\n",
    "plt.legend()\n",
    "plt.show()"
   ]
  },
  {
   "cell_type": "markdown",
   "metadata": {},
   "source": [
    "Feature ( 1 , 3 ) :"
   ]
  },
  {
   "cell_type": "code",
   "execution_count": 27,
   "metadata": {},
   "outputs": [
    {
     "data": {
      "image/png": "[encoded data removed]",
      "text/plain": [
       "<Figure size 432x288 with 1 Axes>"
      ]
     },
     "metadata": {
      "needs_background": "light"
     },
     "output_type": "display_data"
    }
   ],
   "source": [
    "import numpy as np\n",
    "import matplotlib.pyplot as plt\n",
    "\n",
    "iris = np.genfromtxt(\"\",delimiter=None) # load the text file \n",
    "Y = iris[:,-1] # target value is the last column\n",
    "X = iris[:,0:-1] # features are the other columns\n",
    "plt.xlabel(\"Feature 1 Value\")\n",
    "plt.ylabel(\"Feature 3 Value\")\n",
    "class0x = []\n",
    "class0y = []\n",
    "class1x = []\n",
    "class1y = []\n",
    "class2x = []\n",
    "class2y = []\n",
    "for i in range(148):\n",
    "    if Y[i] == 0:  # y = 0\n",
    "        class0x.append(X[i,0])\n",
    "        class0y.append(X[i,2])\n",
    "\n",
    "    if Y[i] == 1:  # y = 1\n",
    "        class1x.append(X[i,0])\n",
    "        class1y.append(X[i,2])\n",
    "\n",
    "    if Y[i] == 2:  # y = 2\n",
    "        class2x.append(X[i,0])\n",
    "        class2y.append(X[i,2]) #class all the data points by y\n",
    "plt.scatter(class0x,class0y,c = 'b', label = 'y = 0')\n",
    "plt.legend()\n",
    "plt.scatter(class1x,class1y,c = 'g', label = 'y = 1')\n",
    "plt.legend()\n",
    "plt.scatter(class2x,class2y,c = 'r', label = 'y = 2')\n",
    "plt.legend()\n",
    "plt.show()"
   ]
  },
  {
   "cell_type": "markdown",
   "metadata": {},
   "source": [
    "Feature ( 1 , 4 ) :"
   ]
  },
  {
   "cell_type": "code",
   "execution_count": 28,
   "metadata": {},
   "outputs": [
    {
     "data": {
      "image/png": "[encoded data removed]",
      "text/plain": [
       "<Figure size 432x288 with 1 Axes>"
      ]
     },
     "metadata": {
      "needs_background": "light"
     },
     "output_type": "display_data"
    }
   ],
   "source": [
    "import numpy as np\n",
    "import matplotlib.pyplot as plt\n",
    "\n",
    "iris = np.genfromtxt(\"data/iris.txt\",delimiter=None) # load the text file \n",
    "Y = iris[:,-1] # target value is the last column\n",
    "X = iris[:,0:-1] # features are the other columns\n",
    "plt.xlabel(\"Feature 1 Value\")\n",
    "plt.ylabel(\"Feature 4 Value\")\n",
    "class0x = []\n",
    "class0y = []\n",
    "class1x = []\n",
    "class1y = []\n",
    "class2x = []\n",
    "class2y = []\n",
    "for i in range(148):\n",
    "    if Y[i] == 0:  # y = 0\n",
    "        class0x.append(X[i,0])\n",
    "        class0y.append(X[i,3])\n",
    "\n",
    "    if Y[i] == 1:  # y = 1\n",
    "        class1x.append(X[i,0])\n",
    "        class1y.append(X[i,3])\n",
    "\n",
    "    if Y[i] == 2:  # y = 2\n",
    "        class2x.append(X[i,0])\n",
    "        class2y.append(X[i,3]) #class all the data points by y\n",
    "plt.scatter(class0x,class0y,c = 'b', label = 'y = 0')\n",
    "plt.legend()\n",
    "plt.scatter(class1x,class1y,c = 'g', label = 'y = 1')\n",
    "plt.legend()\n",
    "plt.scatter(class2x,class2y,c = 'r', label = 'y = 2')\n",
    "plt.legend()\n",
    "plt.show()"
   ]
  },
  {
   "cell_type": "markdown",
   "metadata": {},
   "source": [
    "# Problem 2: kNN predictions"
   ]
  },
  {
   "cell_type": "markdown",
   "metadata": {},
   "source": [
    "## part 1"
   ]
  },
  {
   "cell_type": "code",
   "execution_count": 29,
   "metadata": {},
   "outputs": [
    {
     "data": {
      "image/png": "[encoded data removed]",
      "text/plain": [
       "<Figure size 432x288 with 1 Axes>"
      ]
     },
     "metadata": {
      "needs_background": "light"
     },
     "output_type": "display_data"
    },
    {
     "data": {
      "image/png": "[encoded data removed]",
      "text/plain": [
       "<Figure size 432x288 with 1 Axes>"
      ]
     },
     "metadata": {
      "needs_background": "light"
     },
     "output_type": "display_data"
    },
    {
     "data": {
      "image/png": "[encoded data removed]",
      "text/plain": [
       "<Figure size 432x288 with 1 Axes>"
      ]
     },
     "metadata": {
      "needs_background": "light"
     },
     "output_type": "display_data"
    },
    {
     "data": {
      "image/png": "[encoded data removed]",
      "text/plain": [
       "<Figure size 432x288 with 1 Axes>"
      ]
     },
     "metadata": {
      "needs_background": "light"
     },
     "output_type": "display_data"
    }
   ],
   "source": [
    "import numpy as np\n",
    "import matplotlib.pyplot as plt\n",
    "import sys\n",
    "sys.path.append('/path/to/parent/dir/')\n",
    "\n",
    "iris = np.genfromtxt(\"data/iris.txt\",delimiter=None) # load the data \n",
    "Y = iris[:,-1]\n",
    "X = iris[:,0:2]#first two features\n",
    "\n",
    "import mltools as ml\n",
    "#We'll use some data manipulation routines in the provided class code\n",
    "#Make sure the \"mltools\" directory is in a directory on your Python path, e.g.,\n",
    "#export PYTHONPATH=$\\$${PYTHONPATH}:/path/to/parent/dir\n",
    "# or add it to your path inside Python:\n",
    "np.random.seed(0)\n",
    "X,Y = ml.shuffleData(X,Y); # shuffle data randomly\n",
    "# (This is a good idea in case your data are ordered in some pathological way, \n",
    "# as the Iris data are)\n",
    "Xtr,Xva,Ytr,Yva = ml.splitData(X,Y, 0.75); # split data into 75/25 train/validation\n",
    "K=[1,5,10,50] \n",
    "for i in range(len(K)):\n",
    "    knn = ml.knn.knnClassify() # create the object and train it\n",
    "    knn.train(Xtr, Ytr, K[i]) # where K is an integer, e.g. 1 for nearest neighbor prediction\n",
    "    YvaHat = knn.predict(Xva) # get estimates of y for each data point in Xva\n",
    "    ml.plotClassify2D( knn, Xtr, Ytr ); # make 2D classification plot with data (Xtr,Ytr)"
   ]
  },
  {
   "cell_type": "markdown",
   "metadata": {},
   "source": [
    "From top to bottom, the pictures are the results of K = 1 , 5 , 10 ,50"
   ]
  },
  {
   "cell_type": "markdown",
   "metadata": {},
   "source": [
    "## part 2"
   ]
  },
  {
   "cell_type": "code",
   "execution_count": 32,
   "metadata": {},
   "outputs": [
    {
     "data": {
      "image/png": "[encoded data removed]",
      "text/plain": [
       "<Figure size 432x288 with 1 Axes>"
      ]
     },
     "metadata": {
      "needs_background": "light"
     },
     "output_type": "display_data"
    }
   ],
   "source": [
    "import numpy as np\n",
    "import matplotlib.pyplot as plt\n",
    "import sys\n",
    "sys.path.append('/path/to/parent/dir/')\n",
    "\n",
    "iris = np.genfromtxt(\"data/iris.txt\",delimiter=None) # load the data \n",
    "Y = iris[:,-1]\n",
    "X = iris[:,0:2]#first two features\n",
    "\n",
    "import mltools as ml\n",
    "#We'll use some data manipulation routines in the provided class code\n",
    "np.random.seed(0)\n",
    "X,Y = ml.shuffleData(X,Y); # shuffle data randomly\n",
    "# (This is a good idea in case your data are ordered in some pathological way, \n",
    "# as the Iris data are)\n",
    "Xtr,Xva,Ytr,Yva = ml.splitData(X,Y, 0.75); # split data into 75/25 train/validation\n",
    "\n",
    "K=[1,2,5,10,50,100,200] \n",
    "errTrain = []\n",
    "errTest = []\n",
    "for i, k in enumerate(K) :\n",
    "    \n",
    "    counttr = 0\n",
    "    countte = 0\n",
    "    learner = ml.knn.knnClassify(Xtr,Ytr,k) # train model\n",
    "    Yhattr = learner.predict(Xtr) #  predict results for training Y on training data\n",
    "    for t in range(len(Ytr)):\n",
    "        if Yhattr[t]!= Ytr[t] : counttr += 1 # count what fraction of training data predictions are wrong \n",
    "    errTrain.append(float(counttr)/len(Ytr)) #average\n",
    "    Yhatte = learner.predict(Xva) #  predict results for validation Y\n",
    "    for m in range(len(Yva)):\n",
    "        if Yhatte[m]!=Yva[m] : countte += 1 # count what fraction of validation data predictions are wrong \n",
    "    errTest.append(float(countte)/len(Yva))#average\n",
    "plt.semilogx(K,errTrain,color = 'red',label = 'train error')\n",
    "plt.legend()\n",
    "plt.semilogx(K,errTest,color = 'green',label = 'val error')\n",
    "plt.legend()\n",
    "plt.show()"
   ]
  },
  {
   "cell_type": "markdown",
   "metadata": {},
   "source": [
    "The green one is the error rate for validation data, red one is the error rate for training data.\n",
    "\n",
    "I would recommend K = 50"
   ]
  },
  {
   "cell_type": "markdown",
   "metadata": {},
   "source": [
    "## part 3"
   ]
  },
  {
   "cell_type": "code",
   "execution_count": 35,
   "metadata": {},
   "outputs": [
    {
     "data": {
      "image/png": "[encoded data removed]",
      "text/plain": [
       "<Figure size 432x288 with 1 Axes>"
      ]
     },
     "metadata": {
      "needs_background": "light"
     },
     "output_type": "display_data"
    }
   ],
   "source": [
    "import numpy as np\n",
    "import matplotlib.pyplot as plt\n",
    "import sys\n",
    "sys.path.append('/path/to/parent/dir/')\n",
    "\n",
    "iris = np.genfromtxt(\"data/iris.txt\",delimiter=None) # load the data \n",
    "Y = iris[:,-1]\n",
    "X = iris[:,0:-1] #all the features\n",
    "import mltools as ml\n",
    "np.random.seed(0)\n",
    "X,Y = ml.shuffleData(X,Y); # shuffle data randomly\n",
    "# (This is a good idea in case your data are ordered in some pathological way, \n",
    "# as the Iris data are)\n",
    "Xtr,Xva,Ytr,Yva = ml.splitData(X,Y, 0.75); # split data into 75/25 train/validation\n",
    "\n",
    "K=[1,2,5,10,50,100,200] \n",
    "errTrain = []\n",
    "errTest = []\n",
    "for i, k in enumerate(K) :\n",
    "    \n",
    "    counttr = 0\n",
    "    countte = 0\n",
    "    learner = ml.knn.knnClassify(Xtr,Ytr,k) # train model\n",
    "    Yhattr = learner.predict(Xtr) #  predict results for training Y on training data\n",
    "    for t in range(len(Ytr)):\n",
    "        if Yhattr[t]!= Ytr[t] : counttr += 1 # count what fraction of training data predictions are wrong \n",
    "    errTrain.append(float(counttr)/len(Ytr))\n",
    "    Yhatte = learner.predict(Xva) #  predict results for validation Y\n",
    "    for m in range(len(Yva)):\n",
    "        if Yhatte[m]!=Yva[m] : countte += 1\n",
    "    errTest.append(float(countte)/len(Yva))\n",
    "plt.semilogx(K,errTrain,color = 'green',label = 'train error')\n",
    "plt.legend()\n",
    "plt.semilogx(K,errTest,color = 'red',label = 'val error')\n",
    "plt.legend()\n",
    "plt.show()"
   ]
  },
  {
   "cell_type": "markdown",
   "metadata": {},
   "source": [
    "The plot is different , i would recommand K = 2 / K = 10 this time."
   ]
  },
  {
   "cell_type": "markdown",
   "metadata": {},
   "source": [
    "# Problem 3: Naïve Bayes Classifiers"
   ]
  },
  {
   "cell_type": "markdown",
   "metadata": {},
   "source": [
    "## part 1"
   ]
  },
  {
   "cell_type": "code",
   "execution_count": 36,
   "metadata": {},
   "outputs": [
    {
     "name": "stdout",
     "output_type": "stream",
     "text": [
      "0.4 0.6\n",
      "[[0.5        0.5        0.25       0.75      ]\n",
      " [0.16666667 0.83333333 1.         0.        ]\n",
      " [0.33333333 0.66666667 0.25       0.75      ]\n",
      " [0.16666667 0.83333333 0.5        0.5       ]\n",
      " [0.66666667 0.33333333 0.75       0.25      ]]\n"
     ]
    }
   ],
   "source": [
    "import numpy as np\n",
    "data = np.array([\n",
    "    [0,0,1,1,0,-1],\n",
    "    [1,1,0,1,0,-1],\n",
    "    [0,1,1,1,1,-1],\n",
    "    [1,1,1,1,0,-1],\n",
    "    [0,1,0,0,0,-1],\n",
    "    [1,0,1,1,1,1],\n",
    "    [0,0,1,0,0,1],\n",
    "    [1,0,0,0,0,1],\n",
    "    [1,0,1,1,0,1],\n",
    "    [1,1,1,1,1,-1],\n",
    "]\n",
    ") # the matrix\n",
    "Y = data[:,-1] \n",
    "X = data[:,0:5]\n",
    "count = 0\n",
    "for i in range(10):\n",
    "    if Y[i] == 1: count += 1 \n",
    "prob = float(count)/len(Y)\n",
    "print(prob,1-prob) #p(y=1) and p(y=-1)\n",
    "result = np.zeros((5,4),dtype = float)\n",
    "for j in range(5) :\n",
    "    for i in range(10):\n",
    "        if X[i][j] == 0 and Y[i] == -1 : result[j][0] += 1\n",
    "        if X[i][j] == 1 and Y[i] == -1 : result[j][1] += 1\n",
    "        if X[i][j] == 0 and Y[i] == 1 : result[j][2] += 1\n",
    "        if X[i][j] == 1 and Y[i] == 1 : result[j][3] += 1\n",
    "\n",
    "for k in range(5) :\n",
    "    result[k][0] /= ((1-prob))\n",
    "    result[k][1] /= ((1-prob))\n",
    "    result[k][2] /= (prob)\n",
    "    result[k][3] /= (prob)\n",
    "print(result/10)"
   ]
  },
  {
   "cell_type": "markdown",
   "metadata": {},
   "source": [
    "class y probabilities : p(y=1) = 0.4 p(y=-1) =0.6\n",
    "\n",
    "feature probabilities :\n",
    "\n",
    "p(x1=0|y=-1) = 0.5   p(x1=1|y=-1) = 0.5  p(x1=0|y=1) = 0.25  p(x1=1|y=1) = 0.75\n",
    "\n",
    "p(x2=0|y=-1) = 0.167   p(x2=1|y=-1) = 0.833  p(x2=0|y=1) = 1  p(x2=1|y=1) = 0\n",
    "\n",
    "p(x3=0|y=-1) = 0.333   p(x3=1|y=-1) = 0.667  p(x3=0|y=1) = 0.25  p(x1=3|y=1) = 0.75\n",
    "\n",
    "p(x4=0|y=-1) = 0.167   p(x4=1|y=-1) = 0.833  p(x4=0|y=1) = 0.5  p(x4=1|y=1) = 0.5\n",
    "\n",
    "p(x5=0|y=-1) = 0.667   p(x5=1|y=-1) = 0.333  p(x5=0|y=1) = 0.75  p(x5=1|y=1) = 0.25"
   ]
  },
  {
   "cell_type": "markdown",
   "metadata": {},
   "source": [
    "## part 2"
   ]
  },
  {
   "cell_type": "code",
   "execution_count": 37,
   "metadata": {},
   "outputs": [
    {
     "name": "stdout",
     "output_type": "stream",
     "text": [
      "0.8350515415708365 0.1649484584291635\n",
      "0.0 1.0\n"
     ]
    }
   ],
   "source": [
    "import numpy as np\n",
    "feaprob = np.array([\n",
    " [ 0.5 ,0.5,0.25,0.75],\n",
    " [ 0.16666667,0.83333333,1,0],\n",
    " [ 0.33333333,0.66666667,0.25,0.75],\n",
    " [ 0.16666667,0.83333333,0.5,0.5],\n",
    " [ 0.66666667,0.33333333,0.75,0.25]\n",
    " ],dtype = float)\n",
    "ypro = 0.4 \n",
    "input = np.array([\n",
    "    [0,0,0,0,0],\n",
    "    [1,1,0,1,0]\n",
    "    ])\n",
    "for i in range(2):\n",
    "    f1 = 1.0\n",
    "    f2 = 1.0\n",
    "    for j in range(5):\n",
    "        if input[i][j] == 1 : \n",
    "            f1 *= feaprob[j][3]\n",
    "            f2 *= feaprob[j][1]\n",
    "        if input[i][j] == 0 :\n",
    "            f1 *= feaprob[j][2]\n",
    "            f2 *= feaprob[j][0]\n",
    "    prb = (0.4*f1)/(0.6*f2+0.4*f1)\n",
    "    print(prb,1-prb)"
   ]
  },
  {
   "cell_type": "markdown",
   "metadata": {},
   "source": [
    "when x=(0,0,0,0,0) , p(y=1) =0.835 p(y=-1) = 0.165 , so it belongs to class y = 1 ;\n",
    "\n",
    "when x=(1,1,0,1,0) , p(y=1) =0 p(y=-1) = 1 , so it belongs to class y = -1 ;"
   ]
  },
  {
   "cell_type": "markdown",
   "metadata": {},
   "source": [
    "## part 3"
   ]
  },
  {
   "cell_type": "markdown",
   "metadata": {},
   "source": [
    "Since there is no situation x= (1,1,0,1,0) while y = 1 , so p(x=(1 1 0 1 0), y = 1) = 0 ;\n",
    "so the posterior probability for p(x=(1 1 0 1 0) | y = 1 ) = 0 ."
   ]
  },
  {
   "cell_type": "markdown",
   "metadata": {},
   "source": [
    "## part 4"
   ]
  },
  {
   "cell_type": "markdown",
   "metadata": {},
   "source": [
    "There are 5 features in this model . Each feature has two possible values 0 or 1 that represent different meanings. It needs more than 2^5 =32 groups of input x=(x1 x2 x3 x4 x5) to conclude all possible situations, but we are only given 10 different situatons . We don't have enough data to give an accurate probability by \"joint\" Bayes Classifiers which needs a huge amount data to obtain enough accuracy level."
   ]
  },
  {
   "cell_type": "markdown",
   "metadata": {},
   "source": [
    "## part 5"
   ]
  },
  {
   "cell_type": "markdown",
   "metadata": {},
   "source": [
    "We don't need to re-train the model :\n",
    "\n",
    "Since there is independency in P(x1 x2 x3 x4 …… | y = a) means it equals P(x1 | y =a)* P(x2 | y = a)* P(x3| y =a) ……\n",
    "The probabilities of each xi features are not affected by others. They are independent. If the data of x1 is missing in our model, the probabilities of x2 x3 x4 x5 will still be the same. Just erase the x1 charactors in computing procedure."
   ]
  },
  {
   "cell_type": "markdown",
   "metadata": {},
   "source": [
    "# Statement of Collaboration"
   ]
  },
  {
   "cell_type": "markdown",
   "metadata": {},
   "source": [
    "I obey all the rules of UCI academic integrity and finish the project only by my own.\n",
    "Ziyang Zhang 7/10/2018"
   ]
  }
 ],
 "metadata": {
  "kernelspec": {
   "display_name": "Python 3",
   "language": "python",
   "name": "python3"
  },
  "language_info": {
   "codemirror_mode": {
    "name": "ipython",
    "version": 3
   },
   "file_extension": ".py",
   "mimetype": "text/x-python",
   "name": "python",
   "nbconvert_exporter": "python",
   "pygments_lexer": "ipython3",
   "version": "3.6.5"
  }
 },
 "nbformat": 4,
 "nbformat_minor": 2
}
